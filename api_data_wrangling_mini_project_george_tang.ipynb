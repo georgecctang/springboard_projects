{
 "cells": [
  {
   "cell_type": "markdown",
   "metadata": {},
   "source": [
    "This exercise will require you to pull some data from the Qunadl API. Qaundl is currently the most widely used aggregator of financial market data."
   ]
  },
  {
   "cell_type": "markdown",
   "metadata": {},
   "source": [
    "As a first step, you will need to register a free account on the http://www.quandl.com website."
   ]
  },
  {
   "cell_type": "markdown",
   "metadata": {},
   "source": [
    "After you register, you will be provided with a unique API key, that you should store:"
   ]
  },
  {
   "cell_type": "code",
   "execution_count": 1,
   "metadata": {
    "collapsed": true
   },
   "outputs": [],
   "source": [
    "# Store the API key as a string - according to PEP8, constants are always named in all upper case\n",
    "API_KEY = '6ytA_agFWmtsPou6zQT9'"
   ]
  },
  {
   "cell_type": "markdown",
   "metadata": {},
   "source": [
    "Qaundl has a large number of data sources, but, unfortunately, most of them require a Premium subscription. Still, there are also a good number of free datasets."
   ]
  },
  {
   "cell_type": "markdown",
   "metadata": {},
   "source": [
    "For this mini project, we will focus on equities data from the Frankfurt Stock Exhange (FSE), which is available for free. We'll try and analyze the stock prices of a company called Carl Zeiss Meditec, which manufactures tools for eye examinations, as well as medical lasers for laser eye surgery: https://www.zeiss.com/meditec/int/home.html. The company is listed under the stock ticker AFX_X."
   ]
  },
  {
   "cell_type": "markdown",
   "metadata": {},
   "source": [
    "You can find the detailed Quandl API instructions here: https://docs.quandl.com/docs/time-series"
   ]
  },
  {
   "cell_type": "markdown",
   "metadata": {},
   "source": [
    "While there is a dedicated Python package for connecting to the Quandl API, we would prefer that you use the *requests* package, which can be easily downloaded using *pip* or *conda*. You can find the documentation for the package here: http://docs.python-requests.org/en/master/ "
   ]
  },
  {
   "cell_type": "markdown",
   "metadata": {},
   "source": [
    "Finally, apart from the *requests* package, you are encouraged to not use any third party Python packages, such as *pandas*, and instead focus on what's available in the Python Standard Library (the *collections* module might come in handy: https://pymotw.com/3/collections/ ).\n",
    "Also, since you won't have access to DataFrames, you are encouraged to us Python's native data structures - preferably dictionaries, though some questions can also be answered using lists.\n",
    "You can read more on these data structures here: https://docs.python.org/3/tutorial/datastructures.html"
   ]
  },
  {
   "cell_type": "markdown",
   "metadata": {},
   "source": [
    "Keep in mind that the JSON responses you will be getting from the API map almost one-to-one to Python's dictionaries. Unfortunately, they can be very nested, so make sure you read up on indexing dictionaries in the documentation provided above."
   ]
  },
  {
   "cell_type": "code",
   "execution_count": 2,
   "metadata": {
    "collapsed": true
   },
   "outputs": [],
   "source": [
    "# First, import the relevant modules\n",
    "import requests"
   ]
  },
  {
   "cell_type": "code",
   "execution_count": 3,
   "metadata": {},
   "outputs": [],
   "source": [
    "# Now, call the Quandl API and pull out a small sample of the data (only one day) to get a glimpse\n",
    "# into the JSON structure that will be returned\n",
    "r = requests.get(\"https://www.quandl.com/api/v3/datasets/FSE/AFX_X/data.json?&start_date=2019-01-07&end_date=2019-01-09&api_key=\"\n",
    "+API_KEY)"
   ]
  },
  {
   "cell_type": "code",
   "execution_count": 4,
   "metadata": {},
   "outputs": [
    {
     "name": "stdout",
     "output_type": "stream",
     "text": [
      "{'dataset_data': {'limit': None, 'transform': None, 'column_index': None, 'column_names': ['Date', 'Open', 'High', 'Low', 'Close', 'Change', 'Traded Volume', 'Turnover', 'Last Price of the Day', 'Daily Traded Units', 'Daily Turnover'], 'start_date': '2019-01-07', 'end_date': '2019-01-09', 'frequency': 'daily', 'data': [['2019-01-09', None, 76.55, 74.55, 74.8, None, None, None, None, None, None], ['2019-01-08', None, 74.95, 72.5, 74.2, None, None, None, None, None, None], ['2019-01-07', None, 72.65, 70.9, 72.6, None, None, None, None, None, None]], 'collapse': None, 'order': None}}\n"
     ]
    }
   ],
   "source": [
    "# Inspect the JSON structure of the object you created, and take note of how nested it is,\n",
    "# as well as the overall structure\n",
    "print(r.json())"
   ]
  },
  {
   "cell_type": "markdown",
   "metadata": {},
   "source": [
    "These are your tasks for this mini project:\n",
    "\n",
    "1. Collect data from the Franfurt Stock Exchange, for the ticker AFX_X, for the whole year 2017 (keep in mind that the date format is YYYY-MM-DD).\n",
    "2. Convert the returned JSON object into a Python dictionary.\n",
    "3. Calculate what the highest and lowest opening prices were for the stock in this period.\n",
    "4. What was the largest change in any one day (based on High and Low price)?\n",
    "5. What was the largest change between any two days (based on Closing Price)?\n",
    "6. What was the average daily trading volume during this year?\n",
    "7. (Optional) What was the median trading volume during this year. (Note: you may need to implement your own function for calculating the median.)"
   ]
  },
  {
   "cell_type": "markdown",
   "metadata": {},
   "source": [
    "#### 1. Collect data from the Franfurt Stock Exchange, for the ticker AFX_X, for the whole year 2017 (keep in mind that the date format is YYYY-MM-DD)."
   ]
  },
  {
   "cell_type": "code",
   "execution_count": 7,
   "metadata": {
    "collapsed": true
   },
   "outputs": [],
   "source": [
    "r = requests.get(\"https://www.quandl.com/api/v3/datasets/FSE/AFX_X/data.json?&start_date=2017-01-01&end_date=2017-12-31&api_key=\"\n",
    "+API_KEY)"
   ]
  },
  {
   "cell_type": "code",
   "execution_count": 8,
   "metadata": {
    "collapsed": true
   },
   "outputs": [],
   "source": [
    "#save the json file into a variable\n",
    "afx_x_data = r.json()"
   ]
  },
  {
   "cell_type": "markdown",
   "metadata": {},
   "source": [
    "#### 2. Convert the returned JSON object into a Python dictionary."
   ]
  },
  {
   "cell_type": "markdown",
   "metadata": {},
   "source": [
    "Since the date is unique, it is used as the key for the dictionary."
   ]
  },
  {
   "cell_type": "code",
   "execution_count": 5,
   "metadata": {
    "collapsed": true
   },
   "outputs": [],
   "source": [
    "# The data is in reverse chronological order, and keeping the order is important\n",
    "# for subsequent calculations\n",
    "from collections import OrderedDict"
   ]
  },
  {
   "cell_type": "code",
   "execution_count": 9,
   "metadata": {},
   "outputs": [],
   "source": [
    "#create dictionary\n",
    "afx_x_dict = OrderedDict()\n",
    "data = afx_x_data['dataset_data']['data']\n",
    "column_names = afx_x_data['dataset_data']['column_names']\n",
    "for d in data:\n",
    "    afx_x_dict[d[0]] = {column_names[i]: d[i] for i in range(1,len(column_names))}"
   ]
  },
  {
   "cell_type": "markdown",
   "metadata": {
    "collapsed": true
   },
   "source": [
    "Examine the data structure for one of the dates (2017-12-29):"
   ]
  },
  {
   "cell_type": "code",
   "execution_count": 10,
   "metadata": {},
   "outputs": [
    {
     "data": {
      "text/plain": [
       "{'Change': None,\n",
       " 'Close': 51.76,\n",
       " 'Daily Traded Units': None,\n",
       " 'Daily Turnover': None,\n",
       " 'High': 51.94,\n",
       " 'Last Price of the Day': None,\n",
       " 'Low': 51.45,\n",
       " 'Open': 51.76,\n",
       " 'Traded Volume': 34640.0,\n",
       " 'Turnover': 1792304.0}"
      ]
     },
     "execution_count": 10,
     "metadata": {},
     "output_type": "execute_result"
    }
   ],
   "source": [
    "afx_x_dict['2017-12-29']"
   ]
  },
  {
   "cell_type": "markdown",
   "metadata": {},
   "source": [
    "afx_x_dict has a nested structure with date as the key, and other information in a dictionary. "
   ]
  },
  {
   "cell_type": "markdown",
   "metadata": {},
   "source": [
    "#### 3. Calculate what the highest and lowest opening prices were for the stock in this period."
   ]
  },
  {
   "cell_type": "code",
   "execution_count": 15,
   "metadata": {},
   "outputs": [],
   "source": [
    "#First get the highest opening price\n",
    "highest_open = 0\n",
    "highest_date = ''\n",
    "for k, v in afx_x_dict.items():\n",
    "    if v['Open'] is not None and v['Open'] > highest_open:\n",
    "        highest_open, highest_date = v['Open'], k\n",
    "    \n",
    "#Then get the lowest opening price\n",
    "lowest_open = highest_open\n",
    "lowest_Date = ''\n",
    "for k, v in afx_x_dict.items():\n",
    "    if v['Open'] is not None and v['Open'] < lowest_open:\n",
    "        lowest_open, lowest_date = v['Open'], k"
   ]
  },
  {
   "cell_type": "code",
   "execution_count": 19,
   "metadata": {},
   "outputs": [
    {
     "name": "stdout",
     "output_type": "stream",
     "text": [
      "The maximum opening price was 53.11 on 2017-12-14.\n",
      "The minimum opening price was 34.0 on 2017-01-24.\n"
     ]
    }
   ],
   "source": [
    "print(f'The maximum opening price was {highest_open} on {highest_date}.')\n",
    "print(f'The minimum opening price was {lowest_open} on {lowest_date}.')"
   ]
  },
  {
   "cell_type": "markdown",
   "metadata": {},
   "source": [
    "#### 4. What was the largest change in any one day (based on High and Low price)?"
   ]
  },
  {
   "cell_type": "code",
   "execution_count": 24,
   "metadata": {
    "collapsed": true
   },
   "outputs": [],
   "source": [
    "largest_change = 0\n",
    "largest_change_date = ''\n",
    "for k,v in afx_x_dict.items():\n",
    "    if v['High'] - v['Low'] > largest_change:\n",
    "        date, largest_change = k, v['High'] - v['Low']"
   ]
  },
  {
   "cell_type": "code",
   "execution_count": 27,
   "metadata": {
    "scrolled": true
   },
   "outputs": [
    {
     "name": "stdout",
     "output_type": "stream",
     "text": [
      "The largest change in one day was 2.8100000000000023 on 2017-05-11.\n"
     ]
    }
   ],
   "source": [
    "print(f'The largest change in one day was {largest_change} on {date}.')"
   ]
  },
  {
   "cell_type": "markdown",
   "metadata": {
    "collapsed": true
   },
   "source": [
    "#### 5. What was the largest change between any two days (based on Closing Price)?"
   ]
  },
  {
   "cell_type": "markdown",
   "metadata": {},
   "source": [
    "For simplicity, first create a list of tuples with date and closing price:"
   ]
  },
  {
   "cell_type": "code",
   "execution_count": 55,
   "metadata": {},
   "outputs": [],
   "source": [
    "afx_x_list = [(k,v['Close']) for k,v in afx_x_dict.items()]"
   ]
  },
  {
   "cell_type": "markdown",
   "metadata": {},
   "source": [
    "Examine the first 5 elements:"
   ]
  },
  {
   "cell_type": "code",
   "execution_count": 57,
   "metadata": {},
   "outputs": [
    {
     "data": {
      "text/plain": [
       "[('2017-12-29', 51.76),\n",
       " ('2017-12-28', 51.6),\n",
       " ('2017-12-27', 51.82),\n",
       " ('2017-12-22', 51.32),\n",
       " ('2017-12-21', 51.4)]"
      ]
     },
     "execution_count": 57,
     "metadata": {},
     "output_type": "execute_result"
    }
   ],
   "source": [
    "afx_x_list[0:5]"
   ]
  },
  {
   "cell_type": "code",
   "execution_count": 60,
   "metadata": {},
   "outputs": [],
   "source": [
    "largest_pos_change = 0\n",
    "largest_neg_change = 0\n",
    "for i in range(0,len(afx_x_list)-1):\n",
    "    if afx_x_list[i][1] - afx_x_list[i+1][1] >= 0 and \\\n",
    "    afx_x_list[i][1] - afx_x_list[i+1][1] > largest_pos_change:\n",
    "        largest_pos_change = afx_x_list[i][1] - afx_x_list[i+1][1]\n",
    "        date_pos_2, date_pos_1 = afx_x_list[i][0],afx_x_list[i+1][0]\n",
    "    elif afx_x_list[i][1] - afx_x_list[i+1][1] < largest_neg_change:\n",
    "        largest_neg_change = afx_x_list[i][1] - afx_x_list[i+1][1]\n",
    "        date_neg_2, date_neg_1 = afx_x_list[i][0],afx_x_list[i+1][0]"
   ]
  },
  {
   "cell_type": "code",
   "execution_count": 71,
   "metadata": {},
   "outputs": [
    {
     "name": "stdout",
     "output_type": "stream",
     "text": [
      "The largest change is -2.559999999999995 between 2017-08-08 and 2017-08-09.\n"
     ]
    }
   ],
   "source": [
    "if largest_pos_change >= -1 * largest_neg_change:\n",
    "    print(f'The largest change is {largest_pos_change} between {date_pos_1} and {date_pos_2}.')\n",
    "else:\n",
    "    print(f'The largest change is {largest_neg_change} between {date_neg_1} and {date_neg_2}.')"
   ]
  },
  {
   "cell_type": "markdown",
   "metadata": {},
   "source": [
    "#### 6. What was the average daily trading volume during this year?"
   ]
  },
  {
   "cell_type": "code",
   "execution_count": 82,
   "metadata": {},
   "outputs": [
    {
     "name": "stdout",
     "output_type": "stream",
     "text": [
      "The average daily trading volume during 2017 is 89124.33725490196.\n"
     ]
    }
   ],
   "source": [
    "traded_volume = [v['Traded Volume'] for v in afx_x_dict.values()]\n",
    "avg_volume = sum(traded_volume)/len(traded_volume)\n",
    "print(f'The average daily trading volume during 2017 is {avg_volume}.')"
   ]
  },
  {
   "cell_type": "markdown",
   "metadata": {},
   "source": [
    "#### 7. (Optional) What was the median trading volume during this year. (Note: you may need to implement your own function for calculating the median.)"
   ]
  },
  {
   "cell_type": "markdown",
   "metadata": {
    "collapsed": true
   },
   "source": [
    "First create a function for median:"
   ]
  },
  {
   "cell_type": "code",
   "execution_count": 135,
   "metadata": {},
   "outputs": [],
   "source": [
    "def median_calc(l):\n",
    "    l = sorted(l)\n",
    "    if len(l) % 2 == 1:\n",
    "        return l[int(len(l)/2)]\n",
    "    else:\n",
    "        return (l[int(len(l)/2)] + l[int(len(l)/2-1)])/2"
   ]
  },
  {
   "cell_type": "code",
   "execution_count": 134,
   "metadata": {},
   "outputs": [
    {
     "name": "stdout",
     "output_type": "stream",
     "text": [
      "The median traded volume in 2017 is 76286.0.\n"
     ]
    }
   ],
   "source": [
    "print(f'The median traded volume in 2017 is {median_calc(traded_volume)}.')"
   ]
  }
 ],
 "metadata": {
  "kernelspec": {
   "display_name": "Python 3",
   "language": "python",
   "name": "python3"
  },
  "language_info": {
   "codemirror_mode": {
    "name": "ipython",
    "version": 3
   },
   "file_extension": ".py",
   "mimetype": "text/x-python",
   "name": "python",
   "nbconvert_exporter": "python",
   "pygments_lexer": "ipython3",
   "version": "3.6.3"
  }
 },
 "nbformat": 4,
 "nbformat_minor": 2
}
